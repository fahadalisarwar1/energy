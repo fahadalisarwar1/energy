{
 "cells": [
  {
   "cell_type": "code",
   "execution_count": 2,
   "metadata": {
    "collapsed": true,
    "pycharm": {
     "is_executing": false
    }
   },
   "outputs": [],
   "source": [
    "import pandas as pd\n",
    "df = pd.read_csv(\"data.csv\")\n"
   ]
  },
  {
   "cell_type": "markdown",
   "source": [
    "Lets see the details about the data set"
   ],
   "metadata": {
    "collapsed": false
   }
  },
  {
   "cell_type": "code",
   "execution_count": 3,
   "outputs": [
    {
     "name": "stdout",
     "text": [
      "<class 'pandas.core.frame.DataFrame'>\n",
      "RangeIndex: 19735 entries, 0 to 19734\n",
      "Data columns (total 29 columns):\n",
      " #   Column       Non-Null Count  Dtype  \n",
      "---  ------       --------------  -----  \n",
      " 0   date         19735 non-null  object \n",
      " 1   Appliances   19735 non-null  int64  \n",
      " 2   lights       19735 non-null  int64  \n",
      " 3   T1           19735 non-null  float64\n",
      " 4   RH_1         19735 non-null  float64\n",
      " 5   T2           19735 non-null  float64\n",
      " 6   RH_2         19735 non-null  float64\n",
      " 7   T3           19735 non-null  float64\n",
      " 8   RH_3         19735 non-null  float64\n",
      " 9   T4           19735 non-null  float64\n",
      " 10  RH_4         19735 non-null  float64\n",
      " 11  T5           19735 non-null  float64\n",
      " 12  RH_5         19735 non-null  float64\n",
      " 13  T6           19735 non-null  float64\n",
      " 14  RH_6         19735 non-null  float64\n",
      " 15  T7           19735 non-null  float64\n",
      " 16  RH_7         19735 non-null  float64\n",
      " 17  T8           19735 non-null  float64\n",
      " 18  RH_8         19735 non-null  float64\n",
      " 19  T9           19735 non-null  float64\n",
      " 20  RH_9         19735 non-null  float64\n",
      " 21  T_out        19735 non-null  float64\n",
      " 22  Press_mm_hg  19735 non-null  float64\n",
      " 23  RH_out       19735 non-null  float64\n",
      " 24  Windspeed    19735 non-null  float64\n",
      " 25  Visibility   19735 non-null  float64\n",
      " 26  Tdewpoint    19735 non-null  float64\n",
      " 27  rv1          19735 non-null  float64\n",
      " 28  rv2          19735 non-null  float64\n",
      "dtypes: float64(26), int64(2), object(1)\n",
      "memory usage: 4.4+ MB\n"
     ],
     "output_type": "stream"
    }
   ],
   "source": [
    "df.info()"
   ],
   "metadata": {
    "collapsed": false,
    "pycharm": {
     "name": "#%%\n",
     "is_executing": false
    }
   }
  },
  {
   "cell_type": "markdown",
   "source": [
    "Data contains 29 columns for variables, the first column is a datetime, which means its a time series data\n",
    "\n",
    "\n",
    "The variable names are a bit confusing so i;ll try to write these names clearly\n"
   ],
   "metadata": {
    "collapsed": false
   }
  },
  {
   "cell_type": "markdown",
   "source": [
    "__Datetime__    &emsp; : Date and time in Year-Month-Day Hour:Minute:Second\n",
    "\n",
    "__EnergyApp_Wh__ &emsp;: Energy use in Watthours\n",
    "\n",
    "__lights_Wh__ &emsp;: energy use of light fixtures in the house in Wh\n",
    "\n",
    "\n",
    "__T1_kitchen__ &emsp; : Temperature in kitchen area\n",
    "\n",
    "\n",
    "__Hum1_kitchen__ : Humidity in Kitchen\n",
    "\n",
    "__T2_living__ : Temperature living room\n",
    "\n",
    "\n",
    "__Hum2_living__ : Humidity living room\n",
    " \n",
    " \n",
    "__T3_laundry__ : Temperature in laundry room area\n",
    "\n",
    "__Hum3_Laundry__ : Humidity in laundry room area\n",
    "\n",
    "__T4_office__ :  Temperature in office room in Celsius\n",
    "\n",
    "__Hum4_office__ :  Humidity in office room in %\n",
    "\n",
    "\n",
    "__T5_bathroom__: Temperature in bathroom, in Celsius\n",
    "\n",
    "__Hum5_bathroom__: Humidity in bathroom, in %\n",
    "\n",
    "\n",
    "__T6_outside_north__:\n",
    "\n",
    "__Hum6_outside__:\n",
    "\n",
    "__T7_iron_room__:\n",
    "\n",
    "__Hum7_iron__:\n",
    "\n",
    "__T8_teen_room__:\n",
    "\n",
    "__Hum8_teen_room__:\n",
    "\n",
    "__T9_parents__:\n",
    "\n",
    "__Hum9_parents__:\n",
    "\n",
    "__T10_outside_WS__:\n",
    "\n",
    "__Pressure_mmHg__:\n",
    "\n",
    "\n",
    "__Hum_outside_WS__:\n",
    "\n",
    "__WindSpeed_WS_m/s__:\n",
    "\n",
    "__Visibility_kilometer__:\n",
    "\n",
    "__T_dew_point__:\n",
    "\n",
    "__random_1__:\n",
    "\n",
    "__random_2__:\n",
    "\n"
   ],
   "metadata": {
    "collapsed": false
   }
  },
  {
   "cell_type": "code",
   "execution_count": 5,
   "outputs": [
    {
     "data": {
      "text/plain": "['datetime',\n 'EnergyApp_Wh',\n 'lights_Wh',\n 'T1_kitchen',\n 'Hum1_kitchen',\n 'T2_living',\n 'Hum2_living',\n 'T3_laundry',\n 'Hum3_Laundry',\n 'T4_office',\n 'Hum4_office',\n 'T5_bathroom',\n 'Hum5_bathroom',\n 'T6_outside_north',\n 'Hum6_outside',\n 'T7_iron_room',\n 'Hum7_iron',\n 'T8_teen_room',\n 'Hum8_teen_room',\n 'T9_parents',\n 'Hum9_parents',\n 'T10_outside_WS',\n 'Pressure_mmHg',\n 'Hum_outside_WS',\n 'WindSpeed_WS_m/s',\n 'Visibility_kilometer',\n 'T_dew_point',\n 'random_1',\n 'random_2']"
     },
     "metadata": {},
     "output_type": "execute_result",
     "execution_count": 5
    }
   ],
   "source": [
    "header = [\"datetime\", \"EnergyApp_Wh\", \"lights_Wh\", \"T1_kitchen\", \"Hum1_kitchen\", \"T2_living\", \"Hum2_living\",\n",
    "              \"T3_laundry\", \"Hum3_Laundry\", \"T4_office\", \"Hum4_office\", \"T5_bathroom\", \"Hum5_bathroom\",\n",
    "              \"T6_outside_north\", \"Hum6_outside\", \"T7_iron_room\", \"Hum7_iron\", \"T8_teen_room\", \"Hum8_teen_room\",\n",
    "              \"T9_parents\", \"Hum9_parents\", \"T10_outside_WS\", \"Pressure_mmHg\", \"Hum_outside_WS\", \"WindSpeed_WS_m/s\",\n",
    "              \"Visibility_kilometer\", \"T_dew_point\", \"random_1\", \"random_2\"]\n",
    "header"
   ],
   "metadata": {
    "collapsed": false,
    "pycharm": {
     "name": "#%%\n",
     "is_executing": false
    }
   }
  },
  {
   "cell_type": "code",
   "execution_count": 7,
   "outputs": [
    {
     "data": {
      "text/plain": "              datetime  EnergyApp_Wh  lights_Wh  T1_kitchen  Hum1_kitchen  \\\n0  2016-01-11 17:00:00            60         30       19.89     47.596667   \n1  2016-01-11 17:10:00            60         30       19.89     46.693333   \n2  2016-01-11 17:20:00            50         30       19.89     46.300000   \n3  2016-01-11 17:30:00            50         40       19.89     46.066667   \n4  2016-01-11 17:40:00            60         40       19.89     46.333333   \n\n   T2_living  Hum2_living  T3_laundry  Hum3_Laundry  T4_office  ...  \\\n0       19.2    44.790000       19.79     44.730000  19.000000  ...   \n1       19.2    44.722500       19.79     44.790000  19.000000  ...   \n2       19.2    44.626667       19.79     44.933333  18.926667  ...   \n3       19.2    44.590000       19.79     45.000000  18.890000  ...   \n4       19.2    44.530000       19.79     45.000000  18.890000  ...   \n\n   T9_parents  Hum9_parents  T10_outside_WS  Pressure_mmHg  Hum_outside_WS  \\\n0   17.033333         45.53        6.600000          733.5            92.0   \n1   17.066667         45.56        6.483333          733.6            92.0   \n2   17.000000         45.50        6.366667          733.7            92.0   \n3   17.000000         45.40        6.250000          733.8            92.0   \n4   17.000000         45.40        6.133333          733.9            92.0   \n\n   WindSpeed_WS_m/s  Visibility_kilometer  T_dew_point   random_1   random_2  \n0          7.000000             63.000000          5.3  13.275433  13.275433  \n1          6.666667             59.166667          5.2  18.606195  18.606195  \n2          6.333333             55.333333          5.1  28.642668  28.642668  \n3          6.000000             51.500000          5.0  45.410389  45.410389  \n4          5.666667             47.666667          4.9  10.084097  10.084097  \n\n[5 rows x 29 columns]",
      "text/html": "<div>\n<style scoped>\n    .dataframe tbody tr th:only-of-type {\n        vertical-align: middle;\n    }\n\n    .dataframe tbody tr th {\n        vertical-align: top;\n    }\n\n    .dataframe thead th {\n        text-align: right;\n    }\n</style>\n<table border=\"1\" class=\"dataframe\">\n  <thead>\n    <tr style=\"text-align: right;\">\n      <th></th>\n      <th>datetime</th>\n      <th>EnergyApp_Wh</th>\n      <th>lights_Wh</th>\n      <th>T1_kitchen</th>\n      <th>Hum1_kitchen</th>\n      <th>T2_living</th>\n      <th>Hum2_living</th>\n      <th>T3_laundry</th>\n      <th>Hum3_Laundry</th>\n      <th>T4_office</th>\n      <th>...</th>\n      <th>T9_parents</th>\n      <th>Hum9_parents</th>\n      <th>T10_outside_WS</th>\n      <th>Pressure_mmHg</th>\n      <th>Hum_outside_WS</th>\n      <th>WindSpeed_WS_m/s</th>\n      <th>Visibility_kilometer</th>\n      <th>T_dew_point</th>\n      <th>random_1</th>\n      <th>random_2</th>\n    </tr>\n  </thead>\n  <tbody>\n    <tr>\n      <th>0</th>\n      <td>2016-01-11 17:00:00</td>\n      <td>60</td>\n      <td>30</td>\n      <td>19.89</td>\n      <td>47.596667</td>\n      <td>19.2</td>\n      <td>44.790000</td>\n      <td>19.79</td>\n      <td>44.730000</td>\n      <td>19.000000</td>\n      <td>...</td>\n      <td>17.033333</td>\n      <td>45.53</td>\n      <td>6.600000</td>\n      <td>733.5</td>\n      <td>92.0</td>\n      <td>7.000000</td>\n      <td>63.000000</td>\n      <td>5.3</td>\n      <td>13.275433</td>\n      <td>13.275433</td>\n    </tr>\n    <tr>\n      <th>1</th>\n      <td>2016-01-11 17:10:00</td>\n      <td>60</td>\n      <td>30</td>\n      <td>19.89</td>\n      <td>46.693333</td>\n      <td>19.2</td>\n      <td>44.722500</td>\n      <td>19.79</td>\n      <td>44.790000</td>\n      <td>19.000000</td>\n      <td>...</td>\n      <td>17.066667</td>\n      <td>45.56</td>\n      <td>6.483333</td>\n      <td>733.6</td>\n      <td>92.0</td>\n      <td>6.666667</td>\n      <td>59.166667</td>\n      <td>5.2</td>\n      <td>18.606195</td>\n      <td>18.606195</td>\n    </tr>\n    <tr>\n      <th>2</th>\n      <td>2016-01-11 17:20:00</td>\n      <td>50</td>\n      <td>30</td>\n      <td>19.89</td>\n      <td>46.300000</td>\n      <td>19.2</td>\n      <td>44.626667</td>\n      <td>19.79</td>\n      <td>44.933333</td>\n      <td>18.926667</td>\n      <td>...</td>\n      <td>17.000000</td>\n      <td>45.50</td>\n      <td>6.366667</td>\n      <td>733.7</td>\n      <td>92.0</td>\n      <td>6.333333</td>\n      <td>55.333333</td>\n      <td>5.1</td>\n      <td>28.642668</td>\n      <td>28.642668</td>\n    </tr>\n    <tr>\n      <th>3</th>\n      <td>2016-01-11 17:30:00</td>\n      <td>50</td>\n      <td>40</td>\n      <td>19.89</td>\n      <td>46.066667</td>\n      <td>19.2</td>\n      <td>44.590000</td>\n      <td>19.79</td>\n      <td>45.000000</td>\n      <td>18.890000</td>\n      <td>...</td>\n      <td>17.000000</td>\n      <td>45.40</td>\n      <td>6.250000</td>\n      <td>733.8</td>\n      <td>92.0</td>\n      <td>6.000000</td>\n      <td>51.500000</td>\n      <td>5.0</td>\n      <td>45.410389</td>\n      <td>45.410389</td>\n    </tr>\n    <tr>\n      <th>4</th>\n      <td>2016-01-11 17:40:00</td>\n      <td>60</td>\n      <td>40</td>\n      <td>19.89</td>\n      <td>46.333333</td>\n      <td>19.2</td>\n      <td>44.530000</td>\n      <td>19.79</td>\n      <td>45.000000</td>\n      <td>18.890000</td>\n      <td>...</td>\n      <td>17.000000</td>\n      <td>45.40</td>\n      <td>6.133333</td>\n      <td>733.9</td>\n      <td>92.0</td>\n      <td>5.666667</td>\n      <td>47.666667</td>\n      <td>4.9</td>\n      <td>10.084097</td>\n      <td>10.084097</td>\n    </tr>\n  </tbody>\n</table>\n<p>5 rows × 29 columns</p>\n</div>"
     },
     "metadata": {},
     "output_type": "execute_result",
     "execution_count": 7
    }
   ],
   "source": [
    "df = pd.read_csv(\"data.csv\")\n",
    "\n",
    "\n",
    "df.columns = header\n",
    "df.head()"
   ],
   "metadata": {
    "collapsed": false,
    "pycharm": {
     "name": "#%%\n",
     "is_executing": false
    }
   }
  },
  {
   "cell_type": "code",
   "execution_count": 8,
   "outputs": [
    {
     "name": "stdout",
     "text": [
      "<class 'pandas.core.frame.DataFrame'>\n",
      "RangeIndex: 19735 entries, 0 to 19734\n",
      "Data columns (total 29 columns):\n",
      " #   Column                Non-Null Count  Dtype  \n",
      "---  ------                --------------  -----  \n",
      " 0   datetime              19735 non-null  object \n",
      " 1   EnergyApp_Wh          19735 non-null  int64  \n",
      " 2   lights_Wh             19735 non-null  int64  \n",
      " 3   T1_kitchen            19735 non-null  float64\n",
      " 4   Hum1_kitchen          19735 non-null  float64\n",
      " 5   T2_living             19735 non-null  float64\n",
      " 6   Hum2_living           19735 non-null  float64\n",
      " 7   T3_laundry            19735 non-null  float64\n",
      " 8   Hum3_Laundry          19735 non-null  float64\n",
      " 9   T4_office             19735 non-null  float64\n",
      " 10  Hum4_office           19735 non-null  float64\n",
      " 11  T5_bathroom           19735 non-null  float64\n",
      " 12  Hum5_bathroom         19735 non-null  float64\n",
      " 13  T6_outside_north      19735 non-null  float64\n",
      " 14  Hum6_outside          19735 non-null  float64\n",
      " 15  T7_iron_room          19735 non-null  float64\n",
      " 16  Hum7_iron             19735 non-null  float64\n",
      " 17  T8_teen_room          19735 non-null  float64\n",
      " 18  Hum8_teen_room        19735 non-null  float64\n",
      " 19  T9_parents            19735 non-null  float64\n",
      " 20  Hum9_parents          19735 non-null  float64\n",
      " 21  T10_outside_WS        19735 non-null  float64\n",
      " 22  Pressure_mmHg         19735 non-null  float64\n",
      " 23  Hum_outside_WS        19735 non-null  float64\n",
      " 24  WindSpeed_WS_m/s      19735 non-null  float64\n",
      " 25  Visibility_kilometer  19735 non-null  float64\n",
      " 26  T_dew_point           19735 non-null  float64\n",
      " 27  random_1              19735 non-null  float64\n",
      " 28  random_2              19735 non-null  float64\n",
      "dtypes: float64(26), int64(2), object(1)\n",
      "memory usage: 4.4+ MB\n"
     ],
     "output_type": "stream"
    },
    {
     "data": {
      "text/plain": "       EnergyApp_Wh     lights_Wh    T1_kitchen  Hum1_kitchen     T2_living  \\\ncount  19735.000000  19735.000000  19735.000000  19735.000000  19735.000000   \nmean      97.694958      3.801875     21.686571     40.259739     20.341219   \nstd      102.524891      7.935988      1.606066      3.979299      2.192974   \nmin       10.000000      0.000000     16.790000     27.023333     16.100000   \n25%       50.000000      0.000000     20.760000     37.333333     18.790000   \n50%       60.000000      0.000000     21.600000     39.656667     20.000000   \n75%      100.000000      0.000000     22.600000     43.066667     21.500000   \nmax     1080.000000     70.000000     26.260000     63.360000     29.856667   \n\n        Hum2_living    T3_laundry  Hum3_Laundry     T4_office   Hum4_office  \\\ncount  19735.000000  19735.000000  19735.000000  19735.000000  19735.000000   \nmean      40.420420     22.267611     39.242500     20.855335     39.026904   \nstd        4.069813      2.006111      3.254576      2.042884      4.341321   \nmin       20.463333     17.200000     28.766667     15.100000     27.660000   \n25%       37.900000     20.790000     36.900000     19.530000     35.530000   \n50%       40.500000     22.100000     38.530000     20.666667     38.400000   \n75%       43.260000     23.290000     41.760000     22.100000     42.156667   \nmax       56.026667     29.236000     50.163333     26.200000     51.090000   \n\n       ...    T9_parents  Hum9_parents  T10_outside_WS  Pressure_mmHg  \\\ncount  ...  19735.000000  19735.000000    19735.000000   19735.000000   \nmean   ...     19.485828     41.552401        7.411665     755.522602   \nstd    ...      2.014712      4.151497        5.317409       7.399441   \nmin    ...     14.890000     29.166667       -5.000000     729.300000   \n25%    ...     18.000000     38.500000        3.666667     750.933333   \n50%    ...     19.390000     40.900000        6.916667     756.100000   \n75%    ...     20.600000     44.338095       10.408333     760.933333   \nmax    ...     24.500000     53.326667       26.100000     772.300000   \n\n       Hum_outside_WS  WindSpeed_WS_m/s  Visibility_kilometer   T_dew_point  \\\ncount    19735.000000      19735.000000          19735.000000  19735.000000   \nmean        79.750418          4.039752             38.330834      3.760707   \nstd         14.901088          2.451221             11.794719      4.194648   \nmin         24.000000          0.000000              1.000000     -6.600000   \n25%         70.333333          2.000000             29.000000      0.900000   \n50%         83.666667          3.666667             40.000000      3.433333   \n75%         91.666667          5.500000             40.000000      6.566667   \nmax        100.000000         14.000000             66.000000     15.500000   \n\n           random_1      random_2  \ncount  19735.000000  19735.000000  \nmean      24.988033     24.988033  \nstd       14.496634     14.496634  \nmin        0.005322      0.005322  \n25%       12.497889     12.497889  \n50%       24.897653     24.897653  \n75%       37.583769     37.583769  \nmax       49.996530     49.996530  \n\n[8 rows x 28 columns]",
      "text/html": "<div>\n<style scoped>\n    .dataframe tbody tr th:only-of-type {\n        vertical-align: middle;\n    }\n\n    .dataframe tbody tr th {\n        vertical-align: top;\n    }\n\n    .dataframe thead th {\n        text-align: right;\n    }\n</style>\n<table border=\"1\" class=\"dataframe\">\n  <thead>\n    <tr style=\"text-align: right;\">\n      <th></th>\n      <th>EnergyApp_Wh</th>\n      <th>lights_Wh</th>\n      <th>T1_kitchen</th>\n      <th>Hum1_kitchen</th>\n      <th>T2_living</th>\n      <th>Hum2_living</th>\n      <th>T3_laundry</th>\n      <th>Hum3_Laundry</th>\n      <th>T4_office</th>\n      <th>Hum4_office</th>\n      <th>...</th>\n      <th>T9_parents</th>\n      <th>Hum9_parents</th>\n      <th>T10_outside_WS</th>\n      <th>Pressure_mmHg</th>\n      <th>Hum_outside_WS</th>\n      <th>WindSpeed_WS_m/s</th>\n      <th>Visibility_kilometer</th>\n      <th>T_dew_point</th>\n      <th>random_1</th>\n      <th>random_2</th>\n    </tr>\n  </thead>\n  <tbody>\n    <tr>\n      <th>count</th>\n      <td>19735.000000</td>\n      <td>19735.000000</td>\n      <td>19735.000000</td>\n      <td>19735.000000</td>\n      <td>19735.000000</td>\n      <td>19735.000000</td>\n      <td>19735.000000</td>\n      <td>19735.000000</td>\n      <td>19735.000000</td>\n      <td>19735.000000</td>\n      <td>...</td>\n      <td>19735.000000</td>\n      <td>19735.000000</td>\n      <td>19735.000000</td>\n      <td>19735.000000</td>\n      <td>19735.000000</td>\n      <td>19735.000000</td>\n      <td>19735.000000</td>\n      <td>19735.000000</td>\n      <td>19735.000000</td>\n      <td>19735.000000</td>\n    </tr>\n    <tr>\n      <th>mean</th>\n      <td>97.694958</td>\n      <td>3.801875</td>\n      <td>21.686571</td>\n      <td>40.259739</td>\n      <td>20.341219</td>\n      <td>40.420420</td>\n      <td>22.267611</td>\n      <td>39.242500</td>\n      <td>20.855335</td>\n      <td>39.026904</td>\n      <td>...</td>\n      <td>19.485828</td>\n      <td>41.552401</td>\n      <td>7.411665</td>\n      <td>755.522602</td>\n      <td>79.750418</td>\n      <td>4.039752</td>\n      <td>38.330834</td>\n      <td>3.760707</td>\n      <td>24.988033</td>\n      <td>24.988033</td>\n    </tr>\n    <tr>\n      <th>std</th>\n      <td>102.524891</td>\n      <td>7.935988</td>\n      <td>1.606066</td>\n      <td>3.979299</td>\n      <td>2.192974</td>\n      <td>4.069813</td>\n      <td>2.006111</td>\n      <td>3.254576</td>\n      <td>2.042884</td>\n      <td>4.341321</td>\n      <td>...</td>\n      <td>2.014712</td>\n      <td>4.151497</td>\n      <td>5.317409</td>\n      <td>7.399441</td>\n      <td>14.901088</td>\n      <td>2.451221</td>\n      <td>11.794719</td>\n      <td>4.194648</td>\n      <td>14.496634</td>\n      <td>14.496634</td>\n    </tr>\n    <tr>\n      <th>min</th>\n      <td>10.000000</td>\n      <td>0.000000</td>\n      <td>16.790000</td>\n      <td>27.023333</td>\n      <td>16.100000</td>\n      <td>20.463333</td>\n      <td>17.200000</td>\n      <td>28.766667</td>\n      <td>15.100000</td>\n      <td>27.660000</td>\n      <td>...</td>\n      <td>14.890000</td>\n      <td>29.166667</td>\n      <td>-5.000000</td>\n      <td>729.300000</td>\n      <td>24.000000</td>\n      <td>0.000000</td>\n      <td>1.000000</td>\n      <td>-6.600000</td>\n      <td>0.005322</td>\n      <td>0.005322</td>\n    </tr>\n    <tr>\n      <th>25%</th>\n      <td>50.000000</td>\n      <td>0.000000</td>\n      <td>20.760000</td>\n      <td>37.333333</td>\n      <td>18.790000</td>\n      <td>37.900000</td>\n      <td>20.790000</td>\n      <td>36.900000</td>\n      <td>19.530000</td>\n      <td>35.530000</td>\n      <td>...</td>\n      <td>18.000000</td>\n      <td>38.500000</td>\n      <td>3.666667</td>\n      <td>750.933333</td>\n      <td>70.333333</td>\n      <td>2.000000</td>\n      <td>29.000000</td>\n      <td>0.900000</td>\n      <td>12.497889</td>\n      <td>12.497889</td>\n    </tr>\n    <tr>\n      <th>50%</th>\n      <td>60.000000</td>\n      <td>0.000000</td>\n      <td>21.600000</td>\n      <td>39.656667</td>\n      <td>20.000000</td>\n      <td>40.500000</td>\n      <td>22.100000</td>\n      <td>38.530000</td>\n      <td>20.666667</td>\n      <td>38.400000</td>\n      <td>...</td>\n      <td>19.390000</td>\n      <td>40.900000</td>\n      <td>6.916667</td>\n      <td>756.100000</td>\n      <td>83.666667</td>\n      <td>3.666667</td>\n      <td>40.000000</td>\n      <td>3.433333</td>\n      <td>24.897653</td>\n      <td>24.897653</td>\n    </tr>\n    <tr>\n      <th>75%</th>\n      <td>100.000000</td>\n      <td>0.000000</td>\n      <td>22.600000</td>\n      <td>43.066667</td>\n      <td>21.500000</td>\n      <td>43.260000</td>\n      <td>23.290000</td>\n      <td>41.760000</td>\n      <td>22.100000</td>\n      <td>42.156667</td>\n      <td>...</td>\n      <td>20.600000</td>\n      <td>44.338095</td>\n      <td>10.408333</td>\n      <td>760.933333</td>\n      <td>91.666667</td>\n      <td>5.500000</td>\n      <td>40.000000</td>\n      <td>6.566667</td>\n      <td>37.583769</td>\n      <td>37.583769</td>\n    </tr>\n    <tr>\n      <th>max</th>\n      <td>1080.000000</td>\n      <td>70.000000</td>\n      <td>26.260000</td>\n      <td>63.360000</td>\n      <td>29.856667</td>\n      <td>56.026667</td>\n      <td>29.236000</td>\n      <td>50.163333</td>\n      <td>26.200000</td>\n      <td>51.090000</td>\n      <td>...</td>\n      <td>24.500000</td>\n      <td>53.326667</td>\n      <td>26.100000</td>\n      <td>772.300000</td>\n      <td>100.000000</td>\n      <td>14.000000</td>\n      <td>66.000000</td>\n      <td>15.500000</td>\n      <td>49.996530</td>\n      <td>49.996530</td>\n    </tr>\n  </tbody>\n</table>\n<p>8 rows × 28 columns</p>\n</div>"
     },
     "metadata": {},
     "output_type": "execute_result",
     "execution_count": 8
    }
   ],
   "source": [
    "df.info()\n",
    "\n",
    "df.describe()"
   ],
   "metadata": {
    "collapsed": false,
    "pycharm": {
     "name": "#%%\n",
     "is_executing": false
    }
   }
  },
  {
   "cell_type": "code",
   "execution_count": 10,
   "outputs": [],
   "source": [
    "# Dataframe shape is\n",
    "df.shape\n",
    "rows = df.shape[0]\n",
    "col = df.shape[1]"
   ],
   "metadata": {
    "collapsed": false,
    "pycharm": {
     "name": "#%%\n",
     "is_executing": false
    }
   }
  },
  {
   "cell_type": "code",
   "execution_count": 12,
   "outputs": [
    {
     "data": {
      "text/plain": "datetime                0\nT_dew_point             0\nVisibility_kilometer    0\nWindSpeed_WS_m/s        0\nHum_outside_WS          0\nPressure_mmHg           0\nT10_outside_WS          0\nHum9_parents            0\nT9_parents              0\nHum8_teen_room          0\nT8_teen_room            0\nHum7_iron               0\nT7_iron_room            0\nrandom_1                0\nHum6_outside            0\nHum5_bathroom           0\nT5_bathroom             0\nHum4_office             0\nT4_office               0\nHum3_Laundry            0\nT3_laundry              0\nHum2_living             0\nT2_living               0\nHum1_kitchen            0\nT1_kitchen              0\nlights_Wh               0\nEnergyApp_Wh            0\nT6_outside_north        0\nrandom_2                0\ndtype: int64"
     },
     "metadata": {},
     "output_type": "execute_result",
     "execution_count": 12
    }
   ],
   "source": [
    "# Check for null values\n",
    "df.isnull().sum().sort_values(ascending=True)\n",
    "\n",
    "# No null values good to go!"
   ],
   "metadata": {
    "collapsed": false,
    "pycharm": {
     "name": "#%%\n",
     "is_executing": false
    }
   }
  }
 ],
 "metadata": {
  "kernelspec": {
   "display_name": "Python 3",
   "language": "python",
   "name": "python3"
  },
  "language_info": {
   "codemirror_mode": {
    "name": "ipython",
    "version": 2
   },
   "file_extension": ".py",
   "mimetype": "text/x-python",
   "name": "python",
   "nbconvert_exporter": "python",
   "pygments_lexer": "ipython2",
   "version": "2.7.6"
  },
  "pycharm": {
   "stem_cell": {
    "cell_type": "raw",
    "source": [],
    "metadata": {
     "collapsed": false
    }
   }
  }
 },
 "nbformat": 4,
 "nbformat_minor": 0
}