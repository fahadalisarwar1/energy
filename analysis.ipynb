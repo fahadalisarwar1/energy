{
 "cells": [
  {
   "cell_type": "code",
   "execution_count": 2,
   "metadata": {
    "collapsed": true,
    "pycharm": {
     "is_executing": false
    }
   },
   "outputs": [],
   "source": [
    "import pandas as pd\n",
    "df = pd.read_csv(\"data.csv\")\n"
   ]
  },
  {
   "cell_type": "markdown",
   "source": [
    "Lets see the details about the data set"
   ],
   "metadata": {
    "collapsed": false
   }
  },
  {
   "cell_type": "code",
   "execution_count": 3,
   "outputs": [
    {
     "name": "stdout",
     "text": [
      "<class 'pandas.core.frame.DataFrame'>\n",
      "RangeIndex: 19735 entries, 0 to 19734\n",
      "Data columns (total 29 columns):\n",
      " #   Column       Non-Null Count  Dtype  \n",
      "---  ------       --------------  -----  \n",
      " 0   date         19735 non-null  object \n",
      " 1   Appliances   19735 non-null  int64  \n",
      " 2   lights       19735 non-null  int64  \n",
      " 3   T1           19735 non-null  float64\n",
      " 4   RH_1         19735 non-null  float64\n",
      " 5   T2           19735 non-null  float64\n",
      " 6   RH_2         19735 non-null  float64\n",
      " 7   T3           19735 non-null  float64\n",
      " 8   RH_3         19735 non-null  float64\n",
      " 9   T4           19735 non-null  float64\n",
      " 10  RH_4         19735 non-null  float64\n",
      " 11  T5           19735 non-null  float64\n",
      " 12  RH_5         19735 non-null  float64\n",
      " 13  T6           19735 non-null  float64\n",
      " 14  RH_6         19735 non-null  float64\n",
      " 15  T7           19735 non-null  float64\n",
      " 16  RH_7         19735 non-null  float64\n",
      " 17  T8           19735 non-null  float64\n",
      " 18  RH_8         19735 non-null  float64\n",
      " 19  T9           19735 non-null  float64\n",
      " 20  RH_9         19735 non-null  float64\n",
      " 21  T_out        19735 non-null  float64\n",
      " 22  Press_mm_hg  19735 non-null  float64\n",
      " 23  RH_out       19735 non-null  float64\n",
      " 24  Windspeed    19735 non-null  float64\n",
      " 25  Visibility   19735 non-null  float64\n",
      " 26  Tdewpoint    19735 non-null  float64\n",
      " 27  rv1          19735 non-null  float64\n",
      " 28  rv2          19735 non-null  float64\n",
      "dtypes: float64(26), int64(2), object(1)\n",
      "memory usage: 4.4+ MB\n"
     ],
     "output_type": "stream"
    }
   ],
   "source": [
    "df.info()"
   ],
   "metadata": {
    "collapsed": false,
    "pycharm": {
     "name": "#%%\n",
     "is_executing": false
    }
   }
  },
  {
   "cell_type": "markdown",
   "source": [
    "Data contains 29 columns for variables, the first column is a datetime, which means its a time series data\n",
    "\n",
    "\n",
    "The variable names are a bit confusing so i;ll try to write these names clearly\n"
   ],
   "metadata": {
    "collapsed": false
   }
  },
  {
   "cell_type": "markdown",
   "source": [
    "__Datetime__    &emsp; : Date and time in Year-Month-Day Hour:Minute:Second\n",
    "\n",
    "__EnergyApp_Wh__ &emsp;: Energy use in Watthours\n",
    "\n",
    "__lights_Wh__ &emsp;: energy use of light fixtures in the house in Wh\n",
    "\n",
    "\n",
    "__T1_kitchen__ &emsp; : Temperature in kitchen area\n",
    "\n",
    "\n",
    "__Hum1_kitchen__ :\n",
    "\n",
    "__T2_living__ :\n",
    "\n",
    "\n",
    "__Hum2_living__ :\n",
    " \n",
    " \n",
    "__T3_laundry__ : \n",
    "\n",
    "__Hum3_Laundry__ :\n",
    "\n",
    "__T4_office__ :\n",
    "\n",
    "__Hum4_office__ : \n",
    "\n",
    "\n",
    "__T5_bathroom__: \n",
    "\n",
    "__Hum5_bathroom__:\n",
    "\n",
    "\n",
    "__T6_outside_north__:\n",
    "\n",
    "__Hum6_outside__:\n",
    "\n",
    "__T7_iron_room__:\n",
    "\n",
    "__Hum7_iron__:\n",
    "\n",
    "__T8_teen_room__:\n",
    "\n",
    "__Hum8_teen_room__:\n",
    "\n",
    "__T9_parents__:\n",
    "\n",
    "__Hum9_parents__:\n",
    "\n",
    "__T10_outside_WS__:\n",
    "\n",
    "__Pressure_mmHg__:\n",
    "\n",
    "\n",
    "__Hum_outside_WS__:\n",
    "\n",
    "__WindSpeed_WS_m/s__:\n",
    "\n",
    "__Visibility_kilometer__:\n",
    "\n",
    "__T_dew_point__:\n",
    "\n",
    "__random_1__:\n",
    "\n",
    "__random_2__:\n",
    "\n",
    "\n"
   ],
   "metadata": {
    "collapsed": false
   }
  }
 ],
 "metadata": {
  "kernelspec": {
   "display_name": "Python 3",
   "language": "python",
   "name": "python3"
  },
  "language_info": {
   "codemirror_mode": {
    "name": "ipython",
    "version": 2
   },
   "file_extension": ".py",
   "mimetype": "text/x-python",
   "name": "python",
   "nbconvert_exporter": "python",
   "pygments_lexer": "ipython2",
   "version": "2.7.6"
  },
  "pycharm": {
   "stem_cell": {
    "cell_type": "raw",
    "source": [],
    "metadata": {
     "collapsed": false
    }
   }
  }
 },
 "nbformat": 4,
 "nbformat_minor": 0
}